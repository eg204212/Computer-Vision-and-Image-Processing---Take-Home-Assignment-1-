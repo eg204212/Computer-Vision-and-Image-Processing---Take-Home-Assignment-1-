{
  "nbformat": 4,
  "nbformat_minor": 0,
  "metadata": {
    "colab": {
      "provenance": [],
      "authorship_tag": "ABX9TyOsmRIdVkPOo42vt5kSRSsz",
      "include_colab_link": true
    },
    "kernelspec": {
      "name": "python3",
      "display_name": "Python 3"
    },
    "language_info": {
      "name": "python"
    }
  },
  "cells": [
    {
      "cell_type": "markdown",
      "metadata": {
        "id": "view-in-github",
        "colab_type": "text"
      },
      "source": [
        "<a href=\"https://colab.research.google.com/github/eg204212/Computer-Vision-and-Image-Processing--Take-Home-Assignment-1/blob/main/EC7212_Take_Home_Assignment_1.ipynb\" target=\"_parent\"><img src=\"https://colab.research.google.com/assets/colab-badge.svg\" alt=\"Open In Colab\"/></a>"
      ]
    },
    {
      "cell_type": "markdown",
      "source": [
        "# Setup"
      ],
      "metadata": {
        "id": "46zzHTr1nK8E"
      }
    },
    {
      "cell_type": "code",
      "source": [
        "import cv2\n",
        "import numpy as np"
      ],
      "metadata": {
        "id": "a0WrS2eFoLwk"
      },
      "execution_count": 3,
      "outputs": []
    },
    {
      "cell_type": "markdown",
      "source": [
        "# STEP 1: Reducing Number of Intensity Levels"
      ],
      "metadata": {
        "id": "1-c6s9rcoSfl"
      }
    },
    {
      "cell_type": "code",
      "source": [
        "img = cv2.imread('puppy.jpg', cv2.IMREAD_GRAYSCALE)\n",
        "\n",
        "n_levels = int(input(\"Enter number of intensity levels (power of 2): \"))  # e.g., 2, 4, 8, 16\n",
        "quant_step = 256 // n_levels\n",
        "img_reduced = (img // quant_step) * quant_step\n",
        "cv2.imwrite(f'reduced_{n_levels}.png', img_reduced)"
      ],
      "metadata": {
        "colab": {
          "base_uri": "https://localhost:8080/"
        },
        "id": "fwDvBbv2oRxs",
        "outputId": "2afafd36-de34-4283-9b3e-953019066a2a"
      },
      "execution_count": 4,
      "outputs": [
        {
          "name": "stdout",
          "output_type": "stream",
          "text": [
            "Enter number of intensity levels (power of 2): 4\n"
          ]
        },
        {
          "output_type": "execute_result",
          "data": {
            "text/plain": [
              "True"
            ]
          },
          "metadata": {},
          "execution_count": 4
        }
      ]
    },
    {
      "cell_type": "markdown",
      "source": [
        "# STEP 2: Spatial Averaging (3x3, 10x10, 20x20)"
      ],
      "metadata": {
        "id": "QfDE4MYDrmJd"
      }
    },
    {
      "cell_type": "code",
      "source": [
        "img_3x3 = cv2.blur(img, (3, 3))\n",
        "img_10x10 = cv2.blur(img, (10, 10))\n",
        "img_20x20 = cv2.blur(img, (20, 20))\n",
        "\n",
        "cv2.imwrite('averaged_3x3.png', img_3x3)\n",
        "cv2.imwrite('averaged_10x10.png', img_10x10)\n",
        "cv2.imwrite('averaged_20x20.png', img_20x20)"
      ],
      "metadata": {
        "colab": {
          "base_uri": "https://localhost:8080/"
        },
        "id": "MZq2VN0wroH1",
        "outputId": "39b1dca8-507b-4cf0-ec57-1e17e0e549a0"
      },
      "execution_count": 5,
      "outputs": [
        {
          "output_type": "execute_result",
          "data": {
            "text/plain": [
              "True"
            ]
          },
          "metadata": {},
          "execution_count": 5
        }
      ]
    },
    {
      "cell_type": "markdown",
      "source": [
        "# STEP 3: Rotation by 45° and 90°"
      ],
      "metadata": {
        "id": "Mi9kI3fdr2mk"
      }
    },
    {
      "cell_type": "code",
      "source": [
        "(h, w) = img.shape[:2]\n",
        "center = (w//2, h//2)\n",
        "\n",
        "rot_45 = cv2.getRotationMatrix2D(center, 45, 1.0)\n",
        "rot_90 = cv2.getRotationMatrix2D(center, 90, 1.0)\n",
        "\n",
        "img_rot_45 = cv2.warpAffine(img, rot_45, (w, h))\n",
        "img_rot_90 = cv2.warpAffine(img, rot_90, (w, h))\n",
        "\n",
        "cv2.imwrite('rotated_45.png', img_rot_45)\n",
        "cv2.imwrite('rotated_90.png', img_rot_90)"
      ],
      "metadata": {
        "colab": {
          "base_uri": "https://localhost:8080/"
        },
        "id": "yA_1rG37r8H2",
        "outputId": "80b67dcb-c4c6-4d33-d428-12cc05c1c673"
      },
      "execution_count": 6,
      "outputs": [
        {
          "output_type": "execute_result",
          "data": {
            "text/plain": [
              "True"
            ]
          },
          "metadata": {},
          "execution_count": 6
        }
      ]
    },
    {
      "cell_type": "markdown",
      "source": [
        "# STEP 4: Block Averaging"
      ],
      "metadata": {
        "id": "Pq3ohkQgsApk"
      }
    },
    {
      "cell_type": "code",
      "source": [
        "def block_average(img, block_size):\n",
        "    h, w = img.shape\n",
        "    result = img.copy()\n",
        "    for i in range(0, h, block_size):\n",
        "        for j in range(0, w, block_size):\n",
        "            block = img[i:i+block_size, j:j+block_size]\n",
        "            average_value = np.mean(block, dtype=np.float32)\n",
        "            result[i:i+block_size, j:j+block_size] = average_value\n",
        "    return result\n",
        "\n",
        "img_3 = block_average(img, 3)\n",
        "img_5 = block_average(img, 5)\n",
        "img_7 = block_average(img, 7)\n",
        "\n",
        "cv2.imwrite('block_avg_3.png', img_3)\n",
        "cv2.imwrite('block_avg_5.png', img_5)\n",
        "cv2.imwrite('block_avg_7.png', img_7)"
      ],
      "metadata": {
        "colab": {
          "base_uri": "https://localhost:8080/"
        },
        "id": "eqDGC0e1sD8W",
        "outputId": "d983d6f9-ea73-4aae-a67a-ebf8a554051c"
      },
      "execution_count": 7,
      "outputs": [
        {
          "output_type": "execute_result",
          "data": {
            "text/plain": [
              "True"
            ]
          },
          "metadata": {},
          "execution_count": 7
        }
      ]
    }
  ]
}